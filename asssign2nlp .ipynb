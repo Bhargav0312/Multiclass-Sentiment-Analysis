{
  "nbformat": 4,
  "nbformat_minor": 0,
  "metadata": {
    "colab": {
      "name": "Asssign2nlp.ipynb",
      "provenance": [],
      "collapsed_sections": [],
      "toc_visible": true,
      "machine_shape": "hm"
    },
    "kernelspec": {
      "name": "python3",
      "display_name": "Python 3"
    },
    "accelerator": "GPU"
  },
  "cells": [
    {
      "cell_type": "code",
      "metadata": {
        "id": "TzwFwAQYd67Y",
        "colab_type": "code",
        "outputId": "0bc21b99-44a7-436f-aa6c-d255a02045bd",
        "colab": {
          "base_uri": "https://localhost:8080/",
          "height": 180
        }
      },
      "source": [
        "import pandas as pd\n",
        "import numpy as np\n",
        "import nltk\n",
        "import re\n",
        "nltk.download('punkt')\n",
        "nltk.download('stopwords')\n",
        "nltk.download('wordnet')\n",
        "import matplotlib.pyplot as plt\n",
        "import random\n",
        "from sklearn.model_selection import train_test_split\n",
        "from nltk.corpus import stopwords\n",
        "from nltk.tokenize import word_tokenize\n",
        "from nltk.stem import WordNetLemmatizer, PorterStemmer\n",
        "from sklearn.feature_extraction.text import TfidfVectorizer,CountVectorizer\n",
        "from string import punctuation\n",
        "from keras.models import Model\n",
        "from keras.models import Sequential\n",
        "from keras.layers import Dense, Activation, Flatten, Dropout, Conv1D, MaxPooling1D\n",
        "from keras.layers import Embedding\n",
        "from keras.utils.vis_utils import plot_model\n",
        "from keras.layers.merge import concatenate\n",
        "from keras.callbacks import EarlyStopping\n",
        "from sklearn.utils import class_weight\n",
        "import keras\n",
        "from keras import backend as K\n",
        "from keras import utils\n",
        "from keras.optimizers import Adam\n"
      ],
      "execution_count": 1,
      "outputs": [
        {
          "output_type": "stream",
          "text": [
            "[nltk_data] Downloading package punkt to /root/nltk_data...\n",
            "[nltk_data]   Package punkt is already up-to-date!\n",
            "[nltk_data] Downloading package stopwords to /root/nltk_data...\n",
            "[nltk_data]   Package stopwords is already up-to-date!\n",
            "[nltk_data] Downloading package wordnet to /root/nltk_data...\n",
            "[nltk_data]   Package wordnet is already up-to-date!\n"
          ],
          "name": "stdout"
        },
        {
          "output_type": "stream",
          "text": [
            "Using TensorFlow backend.\n"
          ],
          "name": "stderr"
        },
        {
          "output_type": "display_data",
          "data": {
            "text/html": [
              "<p style=\"color: red;\">\n",
              "The default version of TensorFlow in Colab will soon switch to TensorFlow 2.x.<br>\n",
              "We recommend you <a href=\"https://www.tensorflow.org/guide/migrate\" target=\"_blank\">upgrade</a> now \n",
              "or ensure your notebook will continue to use TensorFlow 1.x via the <code>%tensorflow_version 1.x</code> magic:\n",
              "<a href=\"https://colab.research.google.com/notebooks/tensorflow_version.ipynb\" target=\"_blank\">more info</a>.</p>\n"
            ],
            "text/plain": [
              "<IPython.core.display.HTML object>"
            ]
          },
          "metadata": {
            "tags": []
          }
        }
      ]
    },
    {
      "cell_type": "code",
      "metadata": {
        "id": "8u4MXlUrd_HK",
        "colab_type": "code",
        "outputId": "09d27873-2dd7-42a2-a243-af2174ec05b3",
        "colab": {
          "base_uri": "https://localhost:8080/",
          "height": 343
        }
      },
      "source": [
        "dataset = pd.read_csv(\"https://raw.githubusercontent.com/cacoderquan/Sentiment-Analysis-on-the-Rotten-Tomatoes-movie-review-dataset/master/train.tsv\", header=0, delimiter=\"\\t\", quoting=3)\n",
        "\n",
        "# Show the first ten rows of the dataset\n",
        "dataset.head(10)"
      ],
      "execution_count": 2,
      "outputs": [
        {
          "output_type": "execute_result",
          "data": {
            "text/html": [
              "<div>\n",
              "<style scoped>\n",
              "    .dataframe tbody tr th:only-of-type {\n",
              "        vertical-align: middle;\n",
              "    }\n",
              "\n",
              "    .dataframe tbody tr th {\n",
              "        vertical-align: top;\n",
              "    }\n",
              "\n",
              "    .dataframe thead th {\n",
              "        text-align: right;\n",
              "    }\n",
              "</style>\n",
              "<table border=\"1\" class=\"dataframe\">\n",
              "  <thead>\n",
              "    <tr style=\"text-align: right;\">\n",
              "      <th></th>\n",
              "      <th>PhraseId</th>\n",
              "      <th>SentenceId</th>\n",
              "      <th>Phrase</th>\n",
              "      <th>Sentiment</th>\n",
              "    </tr>\n",
              "  </thead>\n",
              "  <tbody>\n",
              "    <tr>\n",
              "      <th>0</th>\n",
              "      <td>1</td>\n",
              "      <td>1</td>\n",
              "      <td>A series of escapades demonstrating the adage ...</td>\n",
              "      <td>1</td>\n",
              "    </tr>\n",
              "    <tr>\n",
              "      <th>1</th>\n",
              "      <td>2</td>\n",
              "      <td>1</td>\n",
              "      <td>A series of escapades demonstrating the adage ...</td>\n",
              "      <td>2</td>\n",
              "    </tr>\n",
              "    <tr>\n",
              "      <th>2</th>\n",
              "      <td>3</td>\n",
              "      <td>1</td>\n",
              "      <td>A series</td>\n",
              "      <td>2</td>\n",
              "    </tr>\n",
              "    <tr>\n",
              "      <th>3</th>\n",
              "      <td>4</td>\n",
              "      <td>1</td>\n",
              "      <td>A</td>\n",
              "      <td>2</td>\n",
              "    </tr>\n",
              "    <tr>\n",
              "      <th>4</th>\n",
              "      <td>5</td>\n",
              "      <td>1</td>\n",
              "      <td>series</td>\n",
              "      <td>2</td>\n",
              "    </tr>\n",
              "    <tr>\n",
              "      <th>5</th>\n",
              "      <td>6</td>\n",
              "      <td>1</td>\n",
              "      <td>of escapades demonstrating the adage that what...</td>\n",
              "      <td>2</td>\n",
              "    </tr>\n",
              "    <tr>\n",
              "      <th>6</th>\n",
              "      <td>7</td>\n",
              "      <td>1</td>\n",
              "      <td>of</td>\n",
              "      <td>2</td>\n",
              "    </tr>\n",
              "    <tr>\n",
              "      <th>7</th>\n",
              "      <td>8</td>\n",
              "      <td>1</td>\n",
              "      <td>escapades demonstrating the adage that what is...</td>\n",
              "      <td>2</td>\n",
              "    </tr>\n",
              "    <tr>\n",
              "      <th>8</th>\n",
              "      <td>9</td>\n",
              "      <td>1</td>\n",
              "      <td>escapades</td>\n",
              "      <td>2</td>\n",
              "    </tr>\n",
              "    <tr>\n",
              "      <th>9</th>\n",
              "      <td>10</td>\n",
              "      <td>1</td>\n",
              "      <td>demonstrating the adage that what is good for ...</td>\n",
              "      <td>2</td>\n",
              "    </tr>\n",
              "  </tbody>\n",
              "</table>\n",
              "</div>"
            ],
            "text/plain": [
              "   PhraseId  ...  Sentiment\n",
              "0         1  ...          1\n",
              "1         2  ...          2\n",
              "2         3  ...          2\n",
              "3         4  ...          2\n",
              "4         5  ...          2\n",
              "5         6  ...          2\n",
              "6         7  ...          2\n",
              "7         8  ...          2\n",
              "8         9  ...          2\n",
              "9        10  ...          2\n",
              "\n",
              "[10 rows x 4 columns]"
            ]
          },
          "metadata": {
            "tags": []
          },
          "execution_count": 2
        }
      ]
    },
    {
      "cell_type": "code",
      "metadata": {
        "id": "vV_i-Ci3JdCU",
        "colab_type": "code",
        "colab": {}
      },
      "source": [
        "Sentiment_words=[]\n",
        "for row in dataset['Sentiment']:\n",
        "    if row ==0:\n",
        "        Sentiment_words.append('negative')\n",
        "    elif row == 1:\n",
        "        Sentiment_words.append('neutral')\n",
        "    elif row == 2:\n",
        "        Sentiment_words.append('somewhat negative')\n",
        "    elif row == 3:\n",
        "        Sentiment_words.append('somewhat positive')\n",
        "    elif row == 4:\n",
        "        Sentiment_words.append('positive')\n",
        "    else:\n",
        "        Sentiment_words.append('Failed')\n",
        "dataset['Sentiment_words'] = Sentiment_words"
      ],
      "execution_count": 0,
      "outputs": []
    },
    {
      "cell_type": "code",
      "metadata": {
        "id": "5EhtZoX3JeQ5",
        "colab_type": "code",
        "outputId": "935d7160-f40d-4513-cee9-168e3c383ff7",
        "colab": {
          "base_uri": "https://localhost:8080/",
          "height": 118
        }
      },
      "source": [
        "#MAking the word count\n",
        "word_count=pd.value_counts(dataset['Sentiment_words'].values, sort=False)\n",
        "word_count"
      ],
      "execution_count": 4,
      "outputs": [
        {
          "output_type": "execute_result",
          "data": {
            "text/plain": [
              "somewhat positive    32927\n",
              "somewhat negative    79582\n",
              "negative              7072\n",
              "positive              9206\n",
              "neutral              27273\n",
              "dtype: int64"
            ]
          },
          "metadata": {
            "tags": []
          },
          "execution_count": 4
        }
      ]
    },
    {
      "cell_type": "code",
      "metadata": {
        "id": "CcYdOki6Jkz1",
        "colab_type": "code",
        "outputId": "1bb7d723-7cda-4217-ef5a-60ee9ca3c9b9",
        "colab": {
          "base_uri": "https://localhost:8080/",
          "height": 416
        }
      },
      "source": [
        "#plotting the sentiments from the dataset\n",
        "Index = [1,2,3,4,5]\n",
        "plt.figure(figsize=(15,5))\n",
        "plt.bar(Index,word_count,color = 'blue')\n",
        "plt.xticks(Index,['negative','neutral','somewhat negative','somewhat positive','positive'],rotation=45)\n",
        "plt.ylabel('word_count')\n",
        "plt.xlabel('word')\n",
        "plt.title('Count of Moods')\n",
        "plt.bar(Index, word_count)\n",
        "for a,b in zip(Index, word_count):\n",
        "    plt.text(a, b, str(b) ,color='green', fontweight='bold')"
      ],
      "execution_count": 5,
      "outputs": [
        {
          "output_type": "display_data",
          "data": {
            "image/png": "[encoded data removed]",
            "text/plain": [
              "<Figure size 1080x360 with 1 Axes>"
            ]
          },
          "metadata": {
            "tags": []
          }
        }
      ]
    },
    {
      "cell_type": "code",
      "metadata": {
        "id": "1emG9ZkkeB9d",
        "colab_type": "code",
        "colab": {}
      },
      "source": [
        "def retrive_full_sentence(df):\n",
        "  num_sentences=df[\"SentenceId\"].max()\n",
        "  full_sentences=[]\n",
        "  num_full_sentences=0\n",
        "  for i in range(df.shape[0]):\n",
        "    if df['SentenceId'][i] > num_full_sentences:\n",
        "      full_sentences.append((df['Phrase'][i], df['Sentiment'][i]))\n",
        "      num_full_sentences = num_full_sentences + 1\n",
        "  full_sentences_df=pd.DataFrame(full_sentences, columns=['Phrase', 'Sentiment'])    \n",
        "  return full_sentences_df"
      ],
      "execution_count": 0,
      "outputs": []
    },
    {
      "cell_type": "code",
      "metadata": {
        "id": "MAvIWCoseFPD",
        "colab_type": "code",
        "colab": {}
      },
      "source": [
        "fullsens=retrive_full_sentence(dataset)\n",
        "X_train=dataset[\"Phrase\"]\n",
        "Y_train=dataset[\"Sentiment\"]"
      ],
      "execution_count": 0,
      "outputs": []
    },
    {
      "cell_type": "code",
      "metadata": {
        "id": "ceMeE52XeKOP",
        "colab_type": "code",
        "outputId": "e5019a72-9afe-41da-d0cc-8c037b32d2f7",
        "colab": {
          "base_uri": "https://localhost:8080/",
          "height": 34
        }
      },
      "source": [
        "#Converting the X_train and Y_train to array using numpy\n",
        "X_train=np.array(X_train)\n",
        "Y_train=np.array(Y_train)\n",
        "X_train.shape\n",
        "Y_train.shape"
      ],
      "execution_count": 8,
      "outputs": [
        {
          "output_type": "execute_result",
          "data": {
            "text/plain": [
              "(156060,)"
            ]
          },
          "metadata": {
            "tags": []
          },
          "execution_count": 8
        }
      ]
    },
    {
      "cell_type": "code",
      "metadata": {
        "id": "QV-DQDgveLAr",
        "colab_type": "code",
        "colab": {}
      },
      "source": [
        "#Cleaning the text :removing stopwords, puncuation, and lemmatizing\n",
        "def clean_text(df):\n",
        "  clean_phrase=[]\n",
        "  for n in range(len(df)):\n",
        "    phrases=str(df[n])\n",
        "    phrases=re.sub('[^a-zA-Z]',' ',phrases).lower().split()\n",
        "    phrases=[WordNetLemmatizer().lemmatize(phrase) for phrase in phrases if not phrase in stopwords.words('english')]\n",
        "    use_words=' '.join(phrases)\n",
        "    clean_phrase.append(use_words)\n",
        "  return clean_phrase"
      ],
      "execution_count": 0,
      "outputs": []
    },
    {
      "cell_type": "code",
      "metadata": {
        "id": "Gr8U1WdteOU3",
        "colab_type": "code",
        "colab": {}
      },
      "source": [
        "#Cleaning the training part for removal of unwanted words,lemmatizers and punctuations\n",
        "clean_X=clean_text(X_train)"
      ],
      "execution_count": 0,
      "outputs": []
    },
    {
      "cell_type": "code",
      "metadata": {
        "id": "k3td1-y9eQse",
        "colab_type": "code",
        "colab": {}
      },
      "source": [
        "#Code for TF-IDF\n",
        "x_train, x_test, y_train, y_test = train_test_split(clean_X,Y_train, test_size=0.3, random_state=2003)\n",
        "\n",
        "class_weights = class_weight.compute_class_weight('balanced', np.unique(y_train), y_train)\n",
        "\n",
        "max_feature = 2500\n",
        "vectorizer = TfidfVectorizer(max_features=max_feature, min_df=4, max_df=0.8, ngram_range=(1,1))\n",
        "\n",
        "x_train = vectorizer.fit_transform(x_train).toarray()\n",
        "x_test = vectorizer.transform(x_test).toarray()\n"
      ],
      "execution_count": 0,
      "outputs": []
    },
    {
      "cell_type": "code",
      "metadata": {
        "id": "FxDWWmUBeXCT",
        "colab_type": "code",
        "colab": {}
      },
      "source": [
        "y_train = utils.to_categorical(y_train, 5)\n",
        "y_test = utils.to_categorical(y_test, 5)"
      ],
      "execution_count": 0,
      "outputs": []
    },
    {
      "cell_type": "code",
      "metadata": {
        "id": "f2axXOpfeZQg",
        "colab_type": "code",
        "outputId": "75366827-9b6b-4c06-ef41-26252b43c349",
        "colab": {
          "base_uri": "https://localhost:8080/",
          "height": 34
        }
      },
      "source": [
        "# Resahaping the inputs in order to match the requirement\n",
        "x_train=x_train.reshape(x_train.shape[0],x_train.shape[1],1)\n",
        "x_test=x_test.reshape(x_test.shape[0],x_test.shape[1],1)\n",
        "x_train.shape\n",
        "x_test.shape"
      ],
      "execution_count": 13,
      "outputs": [
        {
          "output_type": "execute_result",
          "data": {
            "text/plain": [
              "(46818, 2500, 1)"
            ]
          },
          "metadata": {
            "tags": []
          },
          "execution_count": 13
        }
      ]
    },
    {
      "cell_type": "code",
      "metadata": {
        "id": "QtLbGcjmehfG",
        "colab_type": "code",
        "colab": {}
      },
      "source": [
        "#defining the functions for the Parameter Calculations\n",
        "def recall_m(y_true, y_pred):\n",
        "    true_positives = K.sum(K.round(K.clip(y_true * y_pred, 0, 1)))\n",
        "    possible_positives = K.sum(K.round(K.clip(y_true, 0, 1)))\n",
        "    recall = true_positives / (possible_positives + K.epsilon())\n",
        "    return recall\n",
        "\n",
        "def precision_m(y_true, y_pred):\n",
        "    true_positives = K.sum(K.round(K.clip(y_true * y_pred, 0, 1)))\n",
        "    predicted_positives = K.sum(K.round(K.clip(y_pred, 0, 1)))\n",
        "    precision = true_positives / (predicted_positives + K.epsilon())\n",
        "    return precision\n",
        "\n",
        "def f1_m(y_true, y_pred):\n",
        "    precision = precision_m(y_true, y_pred)\n",
        "    recall = recall_m(y_true, y_pred)\n",
        "    return 2*((precision*recall)/(precision+recall+K.epsilon()))"
      ],
      "execution_count": 0,
      "outputs": []
    },
    {
      "cell_type": "code",
      "metadata": {
        "id": "xoCPB6suejD5",
        "colab_type": "code",
        "outputId": "60cdb2c7-5be8-4861-c0f9-3e5aa8207760",
        "colab": {
          "base_uri": "https://localhost:8080/",
          "height": 171
        }
      },
      "source": [
        "#Creating The Model using Keras\n",
        "model = Sequential(name='cnnMultiClassSentimentReg')\n",
        "\n",
        "model.add(Conv1D(filters=64, kernel_size=3,activation='relu',input_shape=(2500,1)))\n",
        "model.add(Conv1D(128, kernel_size=5, activation='relu'))\n",
        "model.add(Conv1D(128, kernel_size=5, activation='relu'))\n",
        "model.add(MaxPooling1D(pool_size=1))\n",
        "model.add(Flatten())\n",
        "model.add(Dense(64, activation='relu'))\n",
        "model.add(Dense(5, activation='softmax'))"
      ],
      "execution_count": 15,
      "outputs": [
        {
          "output_type": "stream",
          "text": [
            "WARNING:tensorflow:From /usr/local/lib/python3.6/dist-packages/keras/backend/tensorflow_backend.py:66: The name tf.get_default_graph is deprecated. Please use tf.compat.v1.get_default_graph instead.\n",
            "\n",
            "WARNING:tensorflow:From /usr/local/lib/python3.6/dist-packages/keras/backend/tensorflow_backend.py:541: The name tf.placeholder is deprecated. Please use tf.compat.v1.placeholder instead.\n",
            "\n",
            "WARNING:tensorflow:From /usr/local/lib/python3.6/dist-packages/keras/backend/tensorflow_backend.py:4432: The name tf.random_uniform is deprecated. Please use tf.random.uniform instead.\n",
            "\n",
            "WARNING:tensorflow:From /usr/local/lib/python3.6/dist-packages/keras/backend/tensorflow_backend.py:4267: The name tf.nn.max_pool is deprecated. Please use tf.nn.max_pool2d instead.\n",
            "\n"
          ],
          "name": "stdout"
        }
      ]
    },
    {
      "cell_type": "code",
      "metadata": {
        "id": "lhFE7YnFemBt",
        "colab_type": "code",
        "outputId": "02a4d7ce-8ca6-4da1-b7d3-4399fcdb8444",
        "colab": {
          "base_uri": "https://localhost:8080/",
          "height": 386
        }
      },
      "source": [
        "#Model Summary Architecture\n",
        "model.summary()"
      ],
      "execution_count": 16,
      "outputs": [
        {
          "output_type": "stream",
          "text": [
            "Model: \"cnnMultiClassSentimentReg\"\n",
            "_________________________________________________________________\n",
            "Layer (type)                 Output Shape              Param #   \n",
            "=================================================================\n",
            "conv1d_1 (Conv1D)            (None, 2498, 64)          256       \n",
            "_________________________________________________________________\n",
            "conv1d_2 (Conv1D)            (None, 2494, 128)         41088     \n",
            "_________________________________________________________________\n",
            "conv1d_3 (Conv1D)            (None, 2490, 128)         82048     \n",
            "_________________________________________________________________\n",
            "max_pooling1d_1 (MaxPooling1 (None, 2490, 128)         0         \n",
            "_________________________________________________________________\n",
            "flatten_1 (Flatten)          (None, 318720)            0         \n",
            "_________________________________________________________________\n",
            "dense_1 (Dense)              (None, 64)                20398144  \n",
            "_________________________________________________________________\n",
            "dense_2 (Dense)              (None, 5)                 325       \n",
            "=================================================================\n",
            "Total params: 20,521,861\n",
            "Trainable params: 20,521,861\n",
            "Non-trainable params: 0\n",
            "_________________________________________________________________\n"
          ],
          "name": "stdout"
        }
      ]
    },
    {
      "cell_type": "code",
      "metadata": {
        "id": "xKAJWgZheooe",
        "colab_type": "code",
        "outputId": "fffa7c6f-cd84-49c3-eca8-d82e18035722",
        "colab": {
          "base_uri": "https://localhost:8080/",
          "height": 104
        }
      },
      "source": [
        "#Initializing the Optimizer and Model Compile\n",
        "optimizer=Adam(lr=1e-2)\n",
        "model.compile(optimizer=optimizer, loss='categorical_crossentropy',metrics=['accuracy', recall_m, precision_m, f1_m])"
      ],
      "execution_count": 17,
      "outputs": [
        {
          "output_type": "stream",
          "text": [
            "WARNING:tensorflow:From /usr/local/lib/python3.6/dist-packages/keras/optimizers.py:793: The name tf.train.Optimizer is deprecated. Please use tf.compat.v1.train.Optimizer instead.\n",
            "\n",
            "WARNING:tensorflow:From /usr/local/lib/python3.6/dist-packages/keras/backend/tensorflow_backend.py:3576: The name tf.log is deprecated. Please use tf.math.log instead.\n",
            "\n"
          ],
          "name": "stdout"
        }
      ]
    },
    {
      "cell_type": "code",
      "metadata": {
        "id": "hOPLkkiQetEH",
        "colab_type": "code",
        "outputId": "4e0129e3-cf8c-4560-dd2c-c0663583adf5",
        "colab": {
          "base_uri": "https://localhost:8080/",
          "height": 877
        }
      },
      "source": [
        "# MOdel fitting with epochs and weights\n",
        "history=model.fit(x_train, y_train, batch_size=128, epochs=15, verbose=1, validation_data=(x_test,y_test), class_weight=class_weights)"
      ],
      "execution_count": 18,
      "outputs": [
        {
          "output_type": "stream",
          "text": [
            "WARNING:tensorflow:From /tensorflow-1.15.0/python3.6/tensorflow_core/python/ops/math_grad.py:1424: where (from tensorflow.python.ops.array_ops) is deprecated and will be removed in a future version.\n",
            "Instructions for updating:\n",
            "Use tf.where in 2.0, which has the same broadcast rule as np.where\n",
            "WARNING:tensorflow:From /usr/local/lib/python3.6/dist-packages/keras/backend/tensorflow_backend.py:1033: The name tf.assign_add is deprecated. Please use tf.compat.v1.assign_add instead.\n",
            "\n",
            "WARNING:tensorflow:From /usr/local/lib/python3.6/dist-packages/keras/backend/tensorflow_backend.py:1020: The name tf.assign is deprecated. Please use tf.compat.v1.assign instead.\n",
            "\n",
            "WARNING:tensorflow:From /usr/local/lib/python3.6/dist-packages/keras/backend/tensorflow_backend.py:3005: The name tf.Session is deprecated. Please use tf.compat.v1.Session instead.\n",
            "\n",
            "Train on 109242 samples, validate on 46818 samples\n",
            "Epoch 1/15\n",
            "WARNING:tensorflow:From /usr/local/lib/python3.6/dist-packages/keras/backend/tensorflow_backend.py:190: The name tf.get_default_session is deprecated. Please use tf.compat.v1.get_default_session instead.\n",
            "\n",
            "WARNING:tensorflow:From /usr/local/lib/python3.6/dist-packages/keras/backend/tensorflow_backend.py:197: The name tf.ConfigProto is deprecated. Please use tf.compat.v1.ConfigProto instead.\n",
            "\n",
            "WARNING:tensorflow:From /usr/local/lib/python3.6/dist-packages/keras/backend/tensorflow_backend.py:207: The name tf.global_variables is deprecated. Please use tf.compat.v1.global_variables instead.\n",
            "\n",
            "WARNING:tensorflow:From /usr/local/lib/python3.6/dist-packages/keras/backend/tensorflow_backend.py:216: The name tf.is_variable_initialized is deprecated. Please use tf.compat.v1.is_variable_initialized instead.\n",
            "\n",
            "WARNING:tensorflow:From /usr/local/lib/python3.6/dist-packages/keras/backend/tensorflow_backend.py:223: The name tf.variables_initializer is deprecated. Please use tf.compat.v1.variables_initializer instead.\n",
            "\n",
            "109242/109242 [==============================] - 75s 683us/step - loss: 1.0990 - acc: 0.5669 - recall_m: 0.3911 - precision_m: 0.6180 - f1_m: 0.4705 - val_loss: 0.9843 - val_acc: 0.6106 - val_recall_m: 0.4920 - val_precision_m: 0.6766 - val_f1_m: 0.5693\n",
            "Epoch 2/15\n",
            "109242/109242 [==============================] - 61s 556us/step - loss: 0.9600 - acc: 0.6202 - recall_m: 0.5020 - precision_m: 0.6851 - f1_m: 0.5784 - val_loss: 0.9761 - val_acc: 0.6127 - val_recall_m: 0.5045 - val_precision_m: 0.6716 - val_f1_m: 0.5758\n",
            "Epoch 3/15\n",
            "109242/109242 [==============================] - 61s 555us/step - loss: 0.9257 - acc: 0.6312 - recall_m: 0.5301 - precision_m: 0.6887 - f1_m: 0.5983 - val_loss: 0.9614 - val_acc: 0.6194 - val_recall_m: 0.5033 - val_precision_m: 0.6773 - val_f1_m: 0.5772\n",
            "Epoch 4/15\n",
            "109242/109242 [==============================] - 61s 555us/step - loss: 0.8908 - acc: 0.6434 - recall_m: 0.5513 - precision_m: 0.6976 - f1_m: 0.6154 - val_loss: 0.9717 - val_acc: 0.6174 - val_recall_m: 0.5359 - val_precision_m: 0.6636 - val_f1_m: 0.5927\n",
            "Epoch 5/15\n",
            "109242/109242 [==============================] - 61s 556us/step - loss: 0.8732 - acc: 0.6502 - recall_m: 0.5650 - precision_m: 0.7031 - f1_m: 0.6260 - val_loss: 0.9884 - val_acc: 0.6211 - val_recall_m: 0.5350 - val_precision_m: 0.6653 - val_f1_m: 0.5928\n",
            "Epoch 6/15\n",
            "109242/109242 [==============================] - 61s 555us/step - loss: 0.8475 - acc: 0.6603 - recall_m: 0.5832 - precision_m: 0.7088 - f1_m: 0.6396 - val_loss: 0.9640 - val_acc: 0.6218 - val_recall_m: 0.5364 - val_precision_m: 0.6690 - val_f1_m: 0.5951\n",
            "Epoch 7/15\n",
            "109242/109242 [==============================] - 61s 555us/step - loss: 0.8207 - acc: 0.6706 - recall_m: 0.6010 - precision_m: 0.7150 - f1_m: 0.6527 - val_loss: 0.9724 - val_acc: 0.6279 - val_recall_m: 0.5576 - val_precision_m: 0.6633 - val_f1_m: 0.6056\n",
            "Epoch 8/15\n",
            "109242/109242 [==============================] - 61s 554us/step - loss: 0.7948 - acc: 0.6815 - recall_m: 0.6174 - precision_m: 0.7208 - f1_m: 0.6648 - val_loss: 0.9769 - val_acc: 0.6254 - val_recall_m: 0.5518 - val_precision_m: 0.6625 - val_f1_m: 0.6019\n",
            "Epoch 9/15\n",
            "109242/109242 [==============================] - 61s 554us/step - loss: 0.7687 - acc: 0.6924 - recall_m: 0.6354 - precision_m: 0.7280 - f1_m: 0.6783 - val_loss: 0.9853 - val_acc: 0.6276 - val_recall_m: 0.5555 - val_precision_m: 0.6605 - val_f1_m: 0.6032\n",
            "Epoch 10/15\n",
            "109242/109242 [==============================] - 61s 555us/step - loss: 0.7396 - acc: 0.7028 - recall_m: 0.6526 - precision_m: 0.7363 - f1_m: 0.6917 - val_loss: 1.0217 - val_acc: 0.6254 - val_recall_m: 0.5747 - val_precision_m: 0.6535 - val_f1_m: 0.6114\n",
            "Epoch 11/15\n",
            "109242/109242 [==============================] - 61s 555us/step - loss: 0.7134 - acc: 0.7123 - recall_m: 0.6671 - precision_m: 0.7429 - f1_m: 0.7028 - val_loss: 1.0169 - val_acc: 0.6277 - val_recall_m: 0.5745 - val_precision_m: 0.6559 - val_f1_m: 0.6123\n",
            "Epoch 12/15\n",
            "109242/109242 [==============================] - 60s 553us/step - loss: 0.6937 - acc: 0.7199 - recall_m: 0.6786 - precision_m: 0.7488 - f1_m: 0.7118 - val_loss: 1.0107 - val_acc: 0.6281 - val_recall_m: 0.5752 - val_precision_m: 0.6569 - val_f1_m: 0.6132\n",
            "Epoch 13/15\n",
            "109242/109242 [==============================] - 60s 554us/step - loss: 0.6785 - acc: 0.7248 - recall_m: 0.6866 - precision_m: 0.7520 - f1_m: 0.7177 - val_loss: 1.0444 - val_acc: 0.6238 - val_recall_m: 0.5733 - val_precision_m: 0.6509 - val_f1_m: 0.6095\n",
            "Epoch 14/15\n",
            "109242/109242 [==============================] - 61s 554us/step - loss: 0.6639 - acc: 0.7299 - recall_m: 0.6934 - precision_m: 0.7564 - f1_m: 0.7234 - val_loss: 1.1499 - val_acc: 0.6204 - val_recall_m: 0.5844 - val_precision_m: 0.6400 - val_f1_m: 0.6108\n",
            "Epoch 15/15\n",
            "109242/109242 [==============================] - 60s 554us/step - loss: 0.6493 - acc: 0.7345 - recall_m: 0.7001 - precision_m: 0.7598 - f1_m: 0.7286 - val_loss: 1.0841 - val_acc: 0.6250 - val_recall_m: 0.5826 - val_precision_m: 0.6485 - val_f1_m: 0.6136\n"
          ],
          "name": "stdout"
        }
      ]
    },
    {
      "cell_type": "code",
      "metadata": {
        "id": "C4nyFEfJewDm",
        "colab_type": "code",
        "colab": {}
      },
      "source": [
        "#Save the model for immediate use\n",
        "model.save('1106925_1dconv_reg.h5')"
      ],
      "execution_count": 0,
      "outputs": []
    },
    {
      "cell_type": "code",
      "metadata": {
        "id": "7A2B1Ggee75v",
        "colab_type": "code",
        "colab": {}
      },
      "source": [
        "from keras.models import load_model\n",
        "#load the model for resuse\n",
        "model = load_model('1106925_1dconv_reg.h5',custom_objects={'recall_m': recall_m,'precision_m': precision_m,'f1_m': f1_m})"
      ],
      "execution_count": 0,
      "outputs": []
    },
    {
      "cell_type": "code",
      "metadata": {
        "id": "L-75p7h0fAlN",
        "colab_type": "code",
        "colab": {
          "base_uri": "https://localhost:8080/",
          "height": 101
        },
        "outputId": "d05b95fc-ce69-49a9-ac32-99eea177903c"
      },
      "source": [
        "#Evaluate the scores calculated\n",
        "evaluate = model.evaluate(x_test, y_test, batch_size=128)\n",
        "print('The testing accuracy is : ',evaluate[1])\n",
        "print('Testing precision: ',evaluate[2])\n",
        "print('Testing recall: ',evaluate[3])\n",
        "print('Testing f1 score is: ', evaluate[4])"
      ],
      "execution_count": 21,
      "outputs": [
        {
          "output_type": "stream",
          "text": [
            "46818/46818 [==============================] - 8s 167us/step\n",
            "The testing accuracy is :  0.624973300879919\n",
            "Testing precision:  0.5825537186144785\n",
            "Testing recall:  0.648501976841339\n",
            "Testing f1 score is:  0.6136119760892144\n"
          ],
          "name": "stdout"
        }
      ]
    },
    {
      "cell_type": "code",
      "metadata": {
        "colab_type": "code",
        "id": "ENIi90OFNBFg",
        "colab": {
          "base_uri": "https://localhost:8080/",
          "height": 1000
        },
        "outputId": "ea90fcb3-f157-4361-b1ee-af85f8b2d861"
      },
      "source": [
        "#Graph plot comparing the testing and training parameters \n",
        "x=range(0,15)\n",
        "\n",
        "train_loss=history.history['loss']\n",
        "test_acc=history.history['val_acc']\n",
        "train_acc=history.history['acc']\n",
        "\n",
        "test_f1=history.history['val_f1_m']\n",
        "train_f1=history.history['f1_m']\n",
        "\n",
        "test_recall=history.history['val_recall_m']\n",
        "train_recall=history.history['recall_m']\n",
        "\n",
        "test_prec=history.history['val_precision_m']\n",
        "train_prec=history.history['precision_m']\n",
        "\n",
        "plt.figure()\n",
        "plt.plot(x, test_acc, 'r')\n",
        "plt.plot(x, train_acc, 'g')\n",
        "plt.title('Training and Testing Accuracy')\n",
        "plt.legend(['test accuracy', 'train accuracy'])\n",
        "\n",
        "plt.figure()\n",
        "plt.plot(x, test_recall, 'r')\n",
        "plt.plot(x, train_recall, 'g')\n",
        "plt.title('Training and Testing Recall')\n",
        "plt.legend(['test recall', 'train recall'])\n",
        "\n",
        "plt.figure()\n",
        "plt.plot(x, test_prec, 'r')\n",
        "plt.plot(x, train_prec, 'g')\n",
        "plt.title('Training and Testing Precision')\n",
        "plt.legend(['test precision', 'train precision'])\n",
        "\n",
        "plt.figure()\n",
        "plt.plot(x, test_f1, 'r')\n",
        "plt.plot(x, train_f1, 'g')\n",
        "plt.title('Training and Testing F1')\n",
        "plt.legend(['test f1', 'train f1'])"
      ],
      "execution_count": 23,
      "outputs": [
        {
          "output_type": "execute_result",
          "data": {
            "text/plain": [
              "<matplotlib.legend.Legend at 0x7f5a5c93d940>"
            ]
          },
          "metadata": {
            "tags": []
          },
          "execution_count": 23
        },
        {
          "output_type": "display_data",
          "data": {
            "image/png": "[encoded data removed]",
            "text/plain": [
              "<Figure size 432x288 with 1 Axes>"
            ]
          },
          "metadata": {
            "tags": []
          }
        },
        {
          "output_type": "display_data",
          "data": {
            "image/png": "[encoded data removed]",
            "text/plain": [
              "<Figure size 432x288 with 1 Axes>"
            ]
          },
          "metadata": {
            "tags": []
          }
        },
        {
          "output_type": "display_data",
          "data": {
            "image/png": "[encoded data removed]",
            "text/plain": [
              "<Figure size 432x288 with 1 Axes>"
            ]
          },
          "metadata": {
            "tags": []
          }
        },
        {
          "output_type": "display_data",
          "data": {
            "image/png": "[encoded data removed]",
            "text/plain": [
              "<Figure size 432x288 with 1 Axes>"
            ]
          },
          "metadata": {
            "tags": []
          }
        }
      ]
    }
  ]
}